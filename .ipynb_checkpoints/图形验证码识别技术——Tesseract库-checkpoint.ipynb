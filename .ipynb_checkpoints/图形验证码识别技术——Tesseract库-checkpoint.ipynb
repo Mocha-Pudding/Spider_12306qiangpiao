{
 "cells": [
  {
   "cell_type": "markdown",
   "metadata": {},
   "source": [
    "## 图形验证码识别技术：\n",
    "\n",
    "阻碍我们爬虫的。有时候正是在登录或者请求一些数据时候的图形验证码。因此这里我们讲解一种能将图片翻译成文字的技术。将图片翻译成文字一般被成为光学文字识别（Optical Character Recognition），简写为OCR。实现OCR的库不是很多，特别是开源的。因为这块存在一定的技术壁垒（需要大量的数据、算法、机器学习、深度学习知识等），并且如果做好了具有很高的商业价值。因此开源的比较少。这里介绍一个比较优秀的图像识别开源库：Tesseract。"
   ]
  },
  {
   "cell_type": "markdown",
   "metadata": {
    "collapsed": true
   },
   "source": [
    "## Tesseract：\n",
    "\n",
    "Tesseract是一个OCR库，目前由谷歌赞助。Tesseract是目前公认最优秀、最准确的开源OCR库。Tesseract具有很高的识别度，也具有很高的灵活性，他可以通过训练识别任何字体。"
   ]
  },
  {
   "cell_type": "markdown",
   "metadata": {
    "collapsed": true
   },
   "source": []
  },
  {
   "cell_type": "markdown",
   "metadata": {
    "collapsed": true
   },
   "source": [
    "### 安装：\n",
    "   \n",
    "#### Windows系统：   \n",
    "在以下链接下载可执行文件，然后一顿点击下一步安装即可（放在不需要权限的纯英文路径下）：   \n",
    "https://github.com/tesseract-ocr/   \n",
    "   \n",
    "#### Linux系统：\n",
    "可以在以下链接下载源码自行编译。   \n",
    "https://github.com/tesseract-ocr/tesseract/wiki/Compiling   \n",
    "或者在ubuntu下通过以下命令进行安装：   \n",
    "sudo apt install tesseract-ocr   \n",
    "   \n",
    "#### Mac系统：\n",
    "用Homebrew即可方便安装：   \n",
    "brew install tesseract   "
   ]
  },
  {
   "cell_type": "markdown",
   "metadata": {
    "collapsed": true
   },
   "source": [
    "### 设置环境变量：\n",
    "   \n",
    "安装完成后，如果想要在命令行中使用Tesseract，那么应该设置环境变量。Mac和Linux在安装的时候就默认已经设置好了。在Windows下把tesseract.exe所在的路径添加到PATH环境变量中。   \n",
    "   \n",
    "还有一个环境变量需要设置的是，要把训练的数据文件路径也放到环境变量中。   \n",
    "在环境变量中，添加一个TESSDATA_PREFIX=C:\\path_to_tesseractdata\\teseractdata。   "
   ]
  },
  {
   "cell_type": "code",
   "execution_count": null,
   "metadata": {
    "collapsed": true
   },
   "outputs": [],
   "source": []
  }
 ],
 "metadata": {
  "kernelspec": {
   "display_name": "Python 3",
   "language": "python",
   "name": "python3"
  },
  "language_info": {
   "codemirror_mode": {
    "name": "ipython",
    "version": 3
   },
   "file_extension": ".py",
   "mimetype": "text/x-python",
   "name": "python",
   "nbconvert_exporter": "python",
   "pygments_lexer": "ipython3",
   "version": "3.6.3"
  }
 },
 "nbformat": 4,
 "nbformat_minor": 2
}
